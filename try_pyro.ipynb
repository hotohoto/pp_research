{
 "cells": [
  {
   "cell_type": "code",
   "execution_count": 14,
   "metadata": {},
   "outputs": [],
   "source": [
    "import pyro\n",
    "import torch\n",
    "import numpy as np\n",
    "import pandas as pd\n",
    "import pyro.distributions as dist\n",
    "import scipy.stats\n",
    "from matplotlib import pyplot as plt\n",
    "from pyro.infer.mcmc import MCMC, NUTS"
   ]
  },
  {
   "cell_type": "code",
   "execution_count": 9,
   "metadata": {},
   "outputs": [
    {
     "name": "stderr",
     "output_type": "stream",
     "text": [
      "Sample: 100%|██████████| 6000/6000 [00:16<00:00, 374.55it/s, step size=9.35e-01, acc. prob=0.935]\n"
     ]
    },
    {
     "name": "stdout",
     "output_type": "stream",
     "text": [
      "['z'] (4000,)\n",
      "       mean       std      25%       50%       75%\n",
      "z  2.341591  0.403129  2.06888  2.352011  2.610176\n"
     ]
    }
   ],
   "source": [
    "y_obs = torch.Tensor([1, -1, 2, 5, 7])\n",
    "mean_z = 0\n",
    "std_z = 1\n",
    "std_y = 1\n",
    "\n",
    "def model():\n",
    "    z = pyro.sample('z', dist.Normal(mean_z, std_z))\n",
    "    y = pyro.sample('y', dist.Normal(z, std_y), obs=y_obs)\n",
    "    return y\n",
    "\n",
    "nuts_kernel = NUTS(model)\n",
    "mcmc_sampler = MCMC(nuts_kernel, num_samples=4000, warmup_steps=2000)\n",
    "posterior = mcmc_sampler.run()\n",
    "\n",
    "def map_sites(func, posterior, sites):\n",
    "    marginal = posterior.marginal(sites)\n",
    "    site_stats = {}\n",
    "    for site in sites:\n",
    "        marginal_site = marginal.support(flatten=True)[site]\n",
    "        site_stats[site] = func(marginal_site.numpy(), site)\n",
    "    return site_stats\n",
    "\n",
    "def get_site_stats(array, name):\n",
    "    if len(array.shape) == 1:\n",
    "        names = [name]\n",
    "    else:\n",
    "        names = [\"{}[{}]\".format(name, i) for i in range(array.shape[1])]\n",
    "    print(names, array.shape)\n",
    "    array_ = array.reshape(array.shape[0],-1)\n",
    "    df = pd.DataFrame(array_, columns=names).transpose()\n",
    "    return df.apply(pd.Series.describe, axis=1)[[\"mean\", \"std\", \"25%\", \"50%\", \"75%\"]]\n",
    "\n",
    "\n",
    "sites = [\"z\"]\n",
    "summary = pd.concat([s for s in map_sites(get_site_stats, posterior, sites).values()])\n",
    "print(summary)"
   ]
  },
  {
   "cell_type": "code",
   "execution_count": 16,
   "metadata": {},
   "outputs": [
    {
     "data": {
      "text/plain": [
       "<matplotlib.legend.Legend at 0x7f82cbb3cb38>"
      ]
     },
     "execution_count": 16,
     "metadata": {},
     "output_type": "execute_result"
    },
    {
     "data": {
      "image/png": "[encoded data removed]",
      "text/plain": [
       "<Figure size 432x288 with 1 Axes>"
      ]
     },
     "metadata": {
      "needs_background": "light"
     },
     "output_type": "display_data"
    }
   ],
   "source": [
    "p1 = scipy.stats.norm(summary['mean'], summary['std']).pdf\n",
    "\n",
    "def p2 (x):\n",
    "    prior = scipy.stats.norm(mean_z, std_z).pdf(x)\n",
    "    tmp = np.array([scipy.stats.norm(x, std_y).pdf(y_obs[i]) for i in range(y_obs.shape[0])])\n",
    "    likelihood = np.prod(tmp, axis=0)\n",
    "    return likelihood * prior\n",
    "\n",
    "def p3 (x):\n",
    "    prior = scipy.stats.norm(mean_z, std_z).pdf(x)\n",
    "    tmp = np.array([scipy.stats.norm(x, std_y).pdf(y_obs[i]) for i in range(y_obs.shape[0])])\n",
    "    likelihood = np.mean(tmp, axis=0)\n",
    "    return likelihood * prior\n",
    "\n",
    "x_range = np.arange(-2, 2, 0.01)\n",
    "y1 = p1(x_range)\n",
    "y2 = p2(x_range)/scipy.integrate.quad(p2, -20, 20)[0]\n",
    "y3 = p3(x_range)/scipy.integrate.quad(p3, -20, 20)[0]\n",
    "\n",
    "plt.plot(x_range, y1, \":\", label='p1')\n",
    "plt.plot(x_range, y2, \"--\", label='p2', alpha=0.7)\n",
    "plt.plot(x_range, y3, \"\", label='p3', alpha=0.7)\n",
    "plt.legend(loc='best')"
   ]
  },
  {
   "cell_type": "code",
   "execution_count": 2,
   "metadata": {},
   "outputs": [],
   "source": [
    "pyro.set_rng_seed(101)"
   ]
  },
  {
   "cell_type": "code",
   "execution_count": 88,
   "metadata": {},
   "outputs": [
    {
     "name": "stdout",
     "output_type": "stream",
     "text": [
      "sample tensor(0.3136)\n",
      "log prob tensor(-0.9681)\n"
     ]
    }
   ],
   "source": [
    "loc = 0.   # mean zero\n",
    "scale = 1. # unit variance\n",
    "normal = torch.distributions.Normal(loc, scale) # create a normal distribution object\n",
    "x = normal.rsample() # draw a sample from N(0,1)\n",
    "print(\"sample\", x)\n",
    "print(\"log prob\", normal.log_prob(x)) # score the sample from N(0,1)"
   ]
  },
  {
   "cell_type": "code",
   "execution_count": 404,
   "metadata": {},
   "outputs": [
    {
     "name": "stdout",
     "output_type": "stream",
     "text": [
      "tensor([0., 0., 1., 1., 1., 1., 1.])\n",
      "tensor(0.)\n"
     ]
    }
   ],
   "source": [
    "probs = torch.Tensor([0.1,0.3, 0.4, 0.5, 0.6, 0.7, 0.9])\n",
    "print(torch.distributions.Bernoulli(probs).sample())\n",
    "\n",
    "print(torch.distributions.Bernoulli(0.5).sample())"
   ]
  },
  {
   "cell_type": "code",
   "execution_count": 111,
   "metadata": {},
   "outputs": [
    {
     "data": {
      "text/plain": [
       "('sunny', 72.83492279052734)"
      ]
     },
     "execution_count": 111,
     "metadata": {},
     "output_type": "execute_result"
    }
   ],
   "source": [
    "def weather():\n",
    "    cloudy = torch.distributions.Bernoulli(0.3).sample()\n",
    "    cloudy = 'cloudy' if cloudy.item() == 1.0 else 'sunny'\n",
    "    mean_temp = {'cloudy': 55.0, 'sunny': 75.0}[cloudy]\n",
    "    scale_temp = {'cloudy': 10.0, 'sunny': 15.0}[cloudy]\n",
    "    temp = torch.distributions.Normal(mean_temp, scale_temp).rsample()\n",
    "    return cloudy, temp.item()\n",
    "\n",
    "weather()"
   ]
  },
  {
   "cell_type": "code",
   "execution_count": 130,
   "metadata": {},
   "outputs": [
    {
     "name": "stdout",
     "output_type": "stream",
     "text": [
      "tensor(1.5210)\n"
     ]
    }
   ],
   "source": [
    "x = pyro.sample(\"my_sample\", pyro.distributions.Normal(loc, scale))\n",
    "print(x)"
   ]
  },
  {
   "cell_type": "code",
   "execution_count": 169,
   "metadata": {},
   "outputs": [
    {
     "name": "stdout",
     "output_type": "stream",
     "text": [
      "<class 'torch.Tensor'> tensor(0.)\n",
      "('sunny', 81.97663879394531)\n",
      "<class 'torch.Tensor'> tensor(0.)\n",
      "('sunny', 78.90469360351562)\n",
      "<class 'torch.Tensor'> tensor(0.)\n",
      "('sunny', 63.31127166748047)\n"
     ]
    }
   ],
   "source": [
    "def weather():\n",
    "    cloudy = pyro.sample('cloudy', pyro.distributions.Bernoulli(0.3))\n",
    "    print(type(cloudy), cloudy)\n",
    "    cloudy = 'cloudy' if cloudy.item() == 1.0 else 'sunny'\n",
    "    mean_temp = {'cloudy': 55.0, 'sunny': 75.0}[cloudy]\n",
    "    scale_temp = {'cloudy': 10.0, 'sunny': 15.0}[cloudy]\n",
    "    temp = pyro.sample('temp', pyro.distributions.Normal(mean_temp, scale_temp))\n",
    "    return cloudy, temp.item()\n",
    "\n",
    "for _ in range(3):\n",
    "    print(weather())"
   ]
  },
  {
   "cell_type": "code",
   "execution_count": 170,
   "metadata": {},
   "outputs": [
    {
     "name": "stdout",
     "output_type": "stream",
     "text": [
      "....................\n",
      "based on the data and our prior belief, the fairness of the coin is 0.536 +- 0.090\n"
     ]
    }
   ],
   "source": [
    "import math\n",
    "import os\n",
    "import torch\n",
    "import torch.distributions.constraints as constraints\n",
    "import pyro\n",
    "from pyro.optim import Adam\n",
    "from pyro.infer import SVI, Trace_ELBO\n",
    "import pyro.distributions as dist\n",
    "\n",
    "# this is for running the notebook in our testing framework\n",
    "smoke_test = ('CI' in os.environ)\n",
    "n_steps = 2 if smoke_test else 2000\n",
    "\n",
    "# enable validation (e.g. validate parameters of distributions)\n",
    "assert pyro.__version__.startswith('0.4.1')\n",
    "pyro.enable_validation(True)\n",
    "\n",
    "# clear the param store in case we're in a REPL\n",
    "pyro.clear_param_store()\n",
    "\n",
    "# create some data with 6 observed heads and 4 observed tails\n",
    "data = []\n",
    "for _ in range(6):\n",
    "    data.append(torch.tensor(1.0))\n",
    "for _ in range(4):\n",
    "    data.append(torch.tensor(0.0))\n",
    "\n",
    "def model(data):\n",
    "    # define the hyperparameters that control the beta prior\n",
    "    alpha0 = torch.tensor(10.0)\n",
    "    beta0 = torch.tensor(10.0)\n",
    "    # sample f from the beta prior\n",
    "    f = pyro.sample(\"latent_fairness\", dist.Beta(alpha0, beta0))\n",
    "    # loop over the observed data\n",
    "    for i in range(len(data)):\n",
    "        # observe datapoint i using the bernoulli likelihood\n",
    "        pyro.sample(\"obs_{}\".format(i), dist.Bernoulli(f), obs=data[i])\n",
    "\n",
    "def guide(data):\n",
    "    # register the two variational parameters with Pyro\n",
    "    # - both parameters will have initial value 15.0.\n",
    "    # - because we invoke constraints.positive, the optimizer\n",
    "    # will take gradients on the unconstrained parameters\n",
    "    # (which are related to the constrained parameters by a log)\n",
    "    alpha_q = pyro.param(\"alpha_q\", torch.tensor(15.0),\n",
    "                         constraint=constraints.positive)\n",
    "    beta_q = pyro.param(\"beta_q\", torch.tensor(15.0),\n",
    "                        constraint=constraints.positive)\n",
    "    # sample latent_fairness from the distribution Beta(alpha_q, beta_q)\n",
    "    pyro.sample(\"latent_fairness\", dist.Beta(alpha_q, beta_q))\n",
    "\n",
    "# setup the optimizer\n",
    "adam_params = {\"lr\": 0.0005, \"betas\": (0.90, 0.999)}\n",
    "optimizer = Adam(adam_params)\n",
    "\n",
    "# setup the inference algorithm\n",
    "svi = SVI(model, guide, optimizer, loss=Trace_ELBO())\n",
    "\n",
    "# do gradient steps\n",
    "for step in range(n_steps):\n",
    "    svi.step(data)\n",
    "    if step % 100 == 0:\n",
    "        print('.', end='')\n",
    "\n",
    "# grab the learned variational parameters\n",
    "alpha_q = pyro.param(\"alpha_q\").item()\n",
    "beta_q = pyro.param(\"beta_q\").item()\n",
    "\n",
    "# here we use some facts about the beta distribution\n",
    "# compute the inferred mean of the coin's fairness\n",
    "inferred_mean = alpha_q / (alpha_q + beta_q)\n",
    "# compute inferred standard deviation\n",
    "factor = beta_q / (alpha_q * (1.0 + alpha_q + beta_q))\n",
    "inferred_std = inferred_mean * math.sqrt(factor)\n",
    "\n",
    "print(\"\\nbased on the data and our prior belief, the fairness \" +\n",
    "      \"of the coin is %.3f +- %.3f\" % (inferred_mean, inferred_std))"
   ]
  },
  {
   "cell_type": "code",
   "execution_count": 295,
   "metadata": {},
   "outputs": [
    {
     "data": {
      "text/plain": [
       "array([1., 1., 0., 1., 1., 0., 1., 1., 0., 1., 1., 0., 1., 1., 0.],\n",
       "      dtype=float32)"
      ]
     },
     "execution_count": 295,
     "metadata": {},
     "output_type": "execute_result"
    }
   ],
   "source": [
    "x_train = torch.Tensor([0.7,0.6, 0.1, 0.3])\n",
    "y_train = torch.Tensor([1,1,0,1,1,0,1,1,0,1,1,0,1,1,0,])\n",
    "y_obs = pyro.sample(\"y_obs\", dist.Bernoulli(torch.sigmoid(x_train)), obs=y_train)\n",
    "y_obs.numpy()\n"
   ]
  }
 ],
 "metadata": {
  "kernelspec": {
   "display_name": "Python 3",
   "language": "python",
   "name": "python3"
  },
  "language_info": {
   "codemirror_mode": {
    "name": "ipython",
    "version": 3
   },
   "file_extension": ".py",
   "mimetype": "text/x-python",
   "name": "python",
   "nbconvert_exporter": "python",
   "pygments_lexer": "ipython3",
   "version": "3.6.7"
  }
 },
 "nbformat": 4,
 "nbformat_minor": 2
}
