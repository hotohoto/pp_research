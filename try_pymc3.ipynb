{
 "cells": [
  {
   "cell_type": "markdown",
   "metadata": {},
   "source": [
    "import pymc3 as pm\n",
    "import numpy as np\n",
    "\n",
    "basic_model = pm.Model()\n",
    "\n",
    "y_obs = np.random.random(500)\n",
    "\n",
    "with basic_model:\n",
    "    b = pm.Normal(\"normal1\", -10, 1)\n",
    "    y = pm.Normal(\"normal2\", b, 1, observed = y_obs)\n",
    "    traces = pm.sample()\n",
    "    print(pm.summary(traces))\n",
    "    print(pm.find_MAP())"
   ]
  },
  {
   "cell_type": "code",
   "execution_count": 1,
   "metadata": {},
   "outputs": [
    {
     "name": "stderr",
     "output_type": "stream",
     "text": [
      "WARNING (theano.tensor.blas): Using NumPy C-API based implementation for BLAS functions.\n",
      "ERROR (theano.gpuarray): pygpu was configured but could not be imported or is too old (version 0.7 or higher required)\n",
      "NoneType: None\n",
      "Auto-assigning NUTS sampler...\n",
      "Initializing NUTS using jitter+adapt_diag...\n",
      "Multiprocess sampling (4 chains in 4 jobs)\n",
      "NUTS: [z]\n",
      "Sampling 4 chains: 100%|██████████| 4000/4000 [00:00<00:00, 4643.15draws/s]\n",
      "The acceptance probability does not match the target. It is 0.8851514770323047, but should be close to 0.8. Try to increase the number of tuning steps.\n",
      "/home/hotohoto/playground/pp_research/venv/lib/python3.6/site-packages/pymc3/stats.py:991: FutureWarning: The join_axes-keyword is deprecated. Use .reindex or .reindex_like on the result to achieve the same functionality.\n",
      "  axis=1, join_axes=[dforg.index])\n"
     ]
    },
    {
     "data": {
      "text/html": [
       "<div>\n",
       "<style scoped>\n",
       "    .dataframe tbody tr th:only-of-type {\n",
       "        vertical-align: middle;\n",
       "    }\n",
       "\n",
       "    .dataframe tbody tr th {\n",
       "        vertical-align: top;\n",
       "    }\n",
       "\n",
       "    .dataframe thead th {\n",
       "        text-align: right;\n",
       "    }\n",
       "</style>\n",
       "<table border=\"1\" class=\"dataframe\">\n",
       "  <thead>\n",
       "    <tr style=\"text-align: right;\">\n",
       "      <th></th>\n",
       "      <th>mean</th>\n",
       "      <th>sd</th>\n",
       "      <th>mc_error</th>\n",
       "      <th>hpd_2.5</th>\n",
       "      <th>hpd_97.5</th>\n",
       "      <th>n_eff</th>\n",
       "      <th>Rhat</th>\n",
       "    </tr>\n",
       "  </thead>\n",
       "  <tbody>\n",
       "    <tr>\n",
       "      <td>z</td>\n",
       "      <td>2.379225</td>\n",
       "      <td>0.421203</td>\n",
       "      <td>0.014201</td>\n",
       "      <td>1.587534</td>\n",
       "      <td>3.231931</td>\n",
       "      <td>802.08308</td>\n",
       "      <td>1.000785</td>\n",
       "    </tr>\n",
       "  </tbody>\n",
       "</table>\n",
       "</div>"
      ],
      "text/plain": [
       "       mean        sd  mc_error   hpd_2.5  hpd_97.5      n_eff      Rhat\n",
       "z  2.379225  0.421203  0.014201  1.587534  3.231931  802.08308  1.000785"
      ]
     },
     "execution_count": 1,
     "metadata": {},
     "output_type": "execute_result"
    }
   ],
   "source": [
    "import pymc3 as pm\n",
    "import numpy as np\n",
    "import scipy\n",
    "from matplotlib import pyplot as plt\n",
    "\n",
    "basic_model = pm.Model()\n",
    "\n",
    "y_obs = np.array([1, -1, 2, 5, 7])\n",
    "mean_z = 0\n",
    "std_z = 1\n",
    "std_y = 1\n",
    "\n",
    "with basic_model:\n",
    "    z = pm.Normal(\"z\", mean_z, std_z)\n",
    "    y = pm.Normal(\"y\", z, std_y, observed = y_obs)\n",
    "    \n",
    "    trace = pm.sample()\n",
    "    pm.plots.traceplot(trace)\n",
    "    \n",
    "summary = pm.stats.summary(trace)\n",
    "summary"
   ]
  },
  {
   "cell_type": "code",
   "execution_count": 2,
   "metadata": {},
   "outputs": [
    {
     "data": {
      "text/plain": [
       "<matplotlib.legend.Legend at 0x7f2c21d1a940>"
      ]
     },
     "execution_count": 2,
     "metadata": {},
     "output_type": "execute_result"
    },
    {
     "data": {
      "image/png": "[encoded data removed]",
      "text/plain": [
       "<Figure size 432x288 with 1 Axes>"
      ]
     },
     "metadata": {
      "needs_background": "light"
     },
     "output_type": "display_data"
    }
   ],
   "source": [
    "p1 = scipy.stats.norm(summary['mean'], summary['sd']).pdf\n",
    "\n",
    "def p2 (x):\n",
    "    prior = scipy.stats.norm(mean_z, std_z).pdf(x)\n",
    "    tmp = np.array([scipy.stats.norm(x, std_y).pdf(y_obs[i]) for i in range(y_obs.shape[0])])\n",
    "    likelihood = np.prod(tmp, axis=0)\n",
    "    return likelihood * prior\n",
    "\n",
    "def p3 (x):\n",
    "    prior = scipy.stats.norm(mean_z, std_z).pdf(x)\n",
    "    tmp = np.array([scipy.stats.norm(x, std_y).pdf(y_obs[i]) for i in range(y_obs.shape[0])])\n",
    "    likelihood = np.mean(tmp, axis=0)\n",
    "    return likelihood * prior\n",
    "\n",
    "x_range = np.arange(-2, 2, 0.01)\n",
    "y1 = p1(x_range)\n",
    "y2 = p2(x_range)/scipy.integrate.quad(p2, -20, 20)[0]\n",
    "y3 = p3(x_range)/scipy.integrate.quad(p3, -20, 20)[0]\n",
    "\n",
    "plt.plot(x_range, y1, \":\", label='p1')\n",
    "plt.plot(x_range, y2, \"--\", label='p2', alpha=0.7)\n",
    "plt.plot(x_range, y3, \"\", label='p3', alpha=0.7)\n",
    "plt.legend(loc='best')"
   ]
  }
 ],
 "metadata": {
  "kernelspec": {
   "display_name": "Python 3",
   "language": "python",
   "name": "python3"
  },
  "language_info": {
   "codemirror_mode": {
    "name": "ipython",
    "version": 3
   },
   "file_extension": ".py",
   "mimetype": "text/x-python",
   "name": "python",
   "nbconvert_exporter": "python",
   "pygments_lexer": "ipython3",
   "version": "3.6.7"
  }
 },
 "nbformat": 4,
 "nbformat_minor": 2
}
